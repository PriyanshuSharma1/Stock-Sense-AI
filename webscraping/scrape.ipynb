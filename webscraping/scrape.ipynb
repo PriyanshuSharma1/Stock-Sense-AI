{
 "cells": [
  {
   "cell_type": "code",
   "execution_count": null,
   "metadata": {},
   "outputs": [],
   "source": [
    "import requests\n",
    "from bs4 import BeautifulSoup"
   ]
  },
  {
   "cell_type": "code",
   "execution_count": null,
   "metadata": {},
   "outputs": [],
   "source": [
    "URL=\"https://www.sharesansar.com/category/latest\""
   ]
  },
  {
   "cell_type": "code",
   "execution_count": null,
   "metadata": {},
   "outputs": [],
   "source": [
    "request = requests.get(\"https://www.sharesansar.com/category/latest\")\n",
    "soup= BeautifulSoup(request.text,\"html.parser\") "
   ]
  },
  {
   "cell_type": "code",
   "execution_count": null,
   "metadata": {},
   "outputs": [],
   "source": [
    "#Find all 'a' tags\n",
    "a_tags=soup.find_all(\"a\", class_=\"page-link\")\n",
    "print(a_tags)\n",
    "\n",
    "#Extract the href attribute from the \"a\" tags\n",
    "hrefs=[a.get(\"href\") for a in a_tags]\n",
    "print(hrefs)"
   ]
  },
  {
   "cell_type": "code",
   "execution_count": null,
   "metadata": {},
   "outputs": [],
   "source": [
    "#Find all \"h4\" tags\n",
    "h4_tags=soup.find_all(\"h4\", class_=\"featured-news-title\")\n",
    "\n",
    "#Extract the text from the \"h4\" tags\n",
    "h4_texts=[h4.get_text() for h4 in h4_tags]\n",
    "\n",
    "print(\"\\n\".join(h4_texts))"
   ]
  },
  {
   "cell_type": "code",
   "execution_count": null,
   "metadata": {},
   "outputs": [],
   "source": []
  }
 ],
 "metadata": {
  "kernelspec": {
   "display_name": "venv",
   "language": "python",
   "name": "python3"
  },
  "language_info": {
   "codemirror_mode": {
    "name": "ipython",
    "version": 3
   },
   "file_extension": ".py",
   "mimetype": "text/x-python",
   "name": "python",
   "nbconvert_exporter": "python",
   "pygments_lexer": "ipython3",
   "version": "3.11.7"
  }
 },
 "nbformat": 4,
 "nbformat_minor": 2
}
