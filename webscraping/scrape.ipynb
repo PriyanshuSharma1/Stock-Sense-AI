{
 "cells": [
  {
   "cell_type": "code",
   "execution_count": 20,
   "metadata": {},
   "outputs": [],
   "source": [
    "import requests\n",
    "from bs4 import BeautifulSoup"
   ]
  },
  {
   "cell_type": "code",
   "execution_count": 21,
   "metadata": {},
   "outputs": [],
   "source": [
    "URL=\"https://www.sharesansar.com/category/latest\""
   ]
  },
  {
   "cell_type": "code",
   "execution_count": 22,
   "metadata": {},
   "outputs": [],
   "source": [
    "request = requests.get(\"https://www.sharesansar.com/category/latest\")\n",
    "soup= BeautifulSoup(request.text,\"html.parser\") "
   ]
  },
  {
   "cell_type": "code",
   "execution_count": 24,
   "metadata": {},
   "outputs": [
    {
     "name": "stdout",
     "output_type": "stream",
     "text": [
      "Water Supply Project in Beni Stalled Due to Budget Constraints\n",
      "NEPSE Continues Gaining Momentum: Up 27.54 Points To Settle At 2,092 Levels; Intraday Turnover Stood at Rs. 5.85 Arba\n",
      "100% Right Shares of Arun Valley Hydropower Development Company Listed In NEPSE\n",
      "9% Promoter Shares of RSDC Laghubitta Converted into Public Shares\n",
      "Prime Minister Pushpa Kamal Dahal Secures Fourth Vote of Confidence in House of Representatives\n",
      "Nepal's Gold Market Shatters Records, Surges to Unprecedented Highs\n",
      "Bonus Shares of United IDI Mardi and RB Hydropower and Samata Gharelu Laghubitta Listed in NEPSE\n",
      "Iran President Ebrahim Raisi Dies in Helicopter Crash, State Media Confirms\n",
      "Supreme Court Orders Government to Find Alternatives for Managing Landless Squatters\n",
      "PM Pushpa Kamal Dahal to Seek Vote of Confidence from House of Representatives\n"
     ]
    }
   ],
   "source": [
    "#Find all \"h4\" tags\n",
    "h4_tags=soup.find_all(\"h4\", class_=\"featured-news-title\")\n",
    "\n",
    "#Extract the text from the \"h4\" tags\n",
    "h4_texts=[h4.get_text() for h4 in h4_tags]\n",
    "\n",
    "print(\"\\n\".join(h4_texts))"
   ]
  },
  {
   "cell_type": "code",
   "execution_count": 25,
   "metadata": {},
   "outputs": [
    {
     "name": "stdout",
     "output_type": "stream",
     "text": [
      "[<a class=\"page-link\" href=\"?cursor=eyJwdWJsaXNoZWRfZGF0ZSI6IjIwMjQtMDUtMjAgMTA6MDA6MzIiLCJfcG9pbnRzVG9OZXh0SXRlbXMiOnRydWV9\" rel=\"next\">Next »</a>]\n",
      "['?cursor=eyJwdWJsaXNoZWRfZGF0ZSI6IjIwMjQtMDUtMjAgMTA6MDA6MzIiLCJfcG9pbnRzVG9OZXh0SXRlbXMiOnRydWV9']\n"
     ]
    }
   ],
   "source": [
    "#Find all 'a' tags\n",
    "a_tags=soup.find_all(\"a\", class_=\"page-link\")\n",
    "print(a_tags)\n",
    "\n",
    "#Extract the href attribute from the \"a\" tags\n",
    "hrefs=[a.get(\"href\") for a in a_tags]\n",
    "print(hrefs)"
   ]
  },
  {
   "cell_type": "code",
   "execution_count": 32,
   "metadata": {},
   "outputs": [],
   "source": [
    "import requests\n",
    "from bs4 import BeautifulSoup\n",
    "\n",
    "# Start URL\n",
    "url = 'https://www.sharesansar.com/category/latest'\n",
    "\n",
    "# List to store headlines\n",
    "headlines = []\n",
    "\n",
    "while len(headlines) < 100:\n",
    "    # Make a GET request\n",
    "    response = requests.get(url)\n",
    "\n",
    "    # Parse the response text\n",
    "    soup = BeautifulSoup(response.text, 'html.parser')\n",
    "\n",
    "    # Find the news headlines\n",
    "    h4_tags = soup.find_all('h4', class_='featured-news-title')\n",
    "\n",
    "    # Add the headlines to our list\n",
    "    for h4 in h4_tags:\n",
    "        headlines.append(h4.get_text())\n",
    "        # Stop if we have 100 headlines\n",
    "        if len(headlines) == 100:\n",
    "            break\n",
    "\n",
    "    # Find the \"Next\" button link\n",
    "    next_button = soup.find('a', class_='page-link')\n",
    "    if next_button is not None:\n",
    "        url = url+next_button.get('href')\n",
    "    else:\n",
    "        print(\"Couldn't find a 'Next' button. Stopping.\")\n",
    "        break\n",
    "\n",
    "#Open the file in write mode\n",
    "with open(\"headlines.txt\",\"w\") as fs:\n",
    "    #Write the headlines to the file\n",
    "    fs.write(\"\\n\".join(headlines))\n"
   ]
  },
  {
   "cell_type": "code",
   "execution_count": null,
   "metadata": {},
   "outputs": [],
   "source": []
  }
 ],
 "metadata": {
  "kernelspec": {
   "display_name": "venv",
   "language": "python",
   "name": "python3"
  },
  "language_info": {
   "codemirror_mode": {
    "name": "ipython",
    "version": 3
   },
   "file_extension": ".py",
   "mimetype": "text/x-python",
   "name": "python",
   "nbconvert_exporter": "python",
   "pygments_lexer": "ipython3",
   "version": "3.11.7"
  }
 },
 "nbformat": 4,
 "nbformat_minor": 2
}
