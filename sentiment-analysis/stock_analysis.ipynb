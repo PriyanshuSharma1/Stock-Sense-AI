{
 "cells": [
  {
   "cell_type": "code",
   "execution_count": null,
   "metadata": {},
   "outputs": [],
   "source": [
    "import nltk\n",
    "from nltk.sentiment.vader import SentimentIntensityAnalyzer\n",
    "from critical_words import new_words\n"
   ]
  },
  {
   "cell_type": "code",
   "execution_count": null,
   "metadata": {},
   "outputs": [],
   "source": [
    "#Download the vader_lexicon\n",
    "nltk.download('vader_lexicon')"
   ]
  },
  {
   "cell_type": "code",
   "execution_count": null,
   "metadata": {},
   "outputs": [],
   "source": [
    "#Initialize the VADER sentiment analyzer\n",
    "analyzer=SentimentIntensityAnalyzer()\n",
    "\n",
    "analyzer.lexicon.update(new_words)\n",
    "print(analyzer.lexicon)\n",
    "#Open the headlines file\n",
    "with open('../webscraping/headlines.txt',\"r\")as file:\n",
    "    headlines=file.readlines()\n",
    "\n",
    "#Analyze the sentiment of each headline\n",
    "for headline in headlines:\n",
    "    sentiment = analyzer.polarity_scores(headline)\n",
    "    print(f'{headline.strip()}' +\"\\n\"+f'{sentiment}')"
   ]
  },
  {
   "cell_type": "code",
   "execution_count": null,
   "metadata": {},
   "outputs": [],
   "source": []
  }
 ],
 "metadata": {
  "kernelspec": {
   "display_name": "venv",
   "language": "python",
   "name": "python3"
  },
  "language_info": {
   "codemirror_mode": {
    "name": "ipython",
    "version": 3
   },
   "file_extension": ".py",
   "mimetype": "text/x-python",
   "name": "python",
   "nbconvert_exporter": "python",
   "pygments_lexer": "ipython3",
   "version": "3.11.7"
  }
 },
 "nbformat": 4,
 "nbformat_minor": 2
}
